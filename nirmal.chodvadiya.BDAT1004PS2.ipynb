{
 "cells": [
  {
   "cell_type": "markdown",
   "id": "1ac40189",
   "metadata": {},
   "source": [
    "# Question 1"
   ]
  },
  {
   "cell_type": "code",
   "execution_count": 1,
   "id": "e19e24a2",
   "metadata": {},
   "outputs": [
    {
     "data": {
      "text/plain": [
       "6"
      ]
     },
     "execution_count": 1,
     "metadata": {},
     "output_type": "execute_result"
    }
   ],
   "source": [
    "a = 0\n",
    "def b():\n",
    "    global a\n",
    "    a = c(a)\n",
    "\n",
    "def c(a):\n",
    "    return a+2\n",
    "\n",
    "b()\n",
    "b()\n",
    "b()\n",
    "a"
   ]
  },
  {
   "cell_type": "markdown",
   "id": "b03cd587",
   "metadata": {},
   "source": [
    "#### Step 1: assigning value 0 to variable 'a'\n",
    "#### Step 2: function call to 'b()' with values a=0 and assigning new value to varibale 'a' i.e a=c(a), which is defined by the function c()\n",
    "#### Step 3: function call to 'c()' final value of 'a' will be a+2=2\n",
    "#### Step 4: function call to 'b()' with values a=2 and assigning new value to variable 'a' i.e a=c(a)\n",
    "#### Step 5: function call to 'c()' final value of 'a' will be a+2=2+2=4\n",
    "#### Step 6: again function call to 'b()' with values a=0 and assigning new value to variable 'a' i.e a=c(a)\n",
    "#### Step 7: function call to 'c()' final value of 'a' will be a+2=4+2=6\n",
    "#### Step 8: printing value of variable 'a'"
   ]
  },
  {
   "cell_type": "markdown",
   "id": "2547fdc1",
   "metadata": {},
   "source": [
    "# Question 2"
   ]
  },
  {
   "cell_type": "code",
   "execution_count": 117,
   "id": "9e5f0408",
   "metadata": {},
   "outputs": [
    {
     "name": "stdout",
     "output_type": "stream",
     "text": [
      "Enter the Name of the File: nirmal\n",
      "File: nirmal not Found!!!\n"
     ]
    }
   ],
   "source": [
    "def fileLength(fileName):\n",
    "    try:\n",
    "        file = open(fileName,'r')\n",
    "        print(len(file.read()))\n",
    "    except OSError:\n",
    "        print(\"File: \"+ fileName + \" not Found!!!\")\n",
    "\n",
    "enterFileName = input(\"Enter the Name of the File: \")\n",
    "fileLength(enterFileName)"
   ]
  },
  {
   "cell_type": "markdown",
   "id": "cdd01ab2",
   "metadata": {},
   "source": [
    "# Question 3"
   ]
  },
  {
   "cell_type": "code",
   "execution_count": 118,
   "id": "962f35f4",
   "metadata": {},
   "outputs": [
    {
     "name": "stdout",
     "output_type": "stream",
     "text": [
      "I am a Kangaroo located at co-ordinates (0,0)\n",
      "['doll', 'firetruck', 'kitten']\n",
      "I am a Kangaroo located at co-ordinates (3,0)\n"
     ]
    }
   ],
   "source": [
    "class Marsupial(object):\n",
    "    def __init__(self):\n",
    "        self.myList = []\n",
    "    def put_in_pouch(self,item):\n",
    "        self.myList.append(item)\n",
    "    def pouch_contents(self):\n",
    "        return self.myList\n",
    "\n",
    "class Kangaroo(Marsupial):\n",
    "    def __init__(self,xCordinates,yCordinates):\n",
    "        Marsupial.__init__(self)\n",
    "        self.x = xCordinates\n",
    "        self.y = yCordinates\n",
    "    def jump(self,ax,ay):\n",
    "        self.x += ax\n",
    "        self.y += ay\n",
    "    def __str__(self):\n",
    "        return \"I am a Kangaroo located at co-ordinates ({},{})\".format(self.x,self.y)\n",
    "    \n",
    "my = Marsupial()\n",
    "my.put_in_pouch('doll')\n",
    "my.put_in_pouch('firetruck')\n",
    "my.put_in_pouch('kitten')\n",
    "\n",
    "kg = Kangaroo(0,0)\n",
    "\n",
    "print(kg)\n",
    "print(my.pouch_contents())\n",
    "\n",
    "kg.put_in_pouch('doll')\n",
    "kg.put_in_pouch('firetruck')\n",
    "kg.put_in_pouch('kitten')\n",
    "kg.pouch_contents()\n",
    "kg.jump(1,0)\n",
    "kg.jump(1,0)\n",
    "kg.jump(1,0)\n",
    "print(kg)"
   ]
  },
  {
   "cell_type": "markdown",
   "id": "347f4dfe",
   "metadata": {},
   "source": [
    "# Question 4"
   ]
  },
  {
   "cell_type": "code",
   "execution_count": 119,
   "id": "be8b0e3e",
   "metadata": {},
   "outputs": [
    {
     "name": "stdout",
     "output_type": "stream",
     "text": [
      "Enter a Number: 10\n",
      "10\n",
      "5\n",
      "16\n",
      "8\n",
      "4\n",
      "2\n",
      "1\n"
     ]
    }
   ],
   "source": [
    "def collatz(userNumber):\n",
    "    myList = [userNumber]\n",
    "    if userNumber == 1:\n",
    "        return [1]\n",
    "    elif userNumber % 2 ==0:\n",
    "        myList.extend(collatz(userNumber//2))\n",
    "    else:\n",
    "        myList.extend(collatz(userNumber*3+1))\n",
    "    return myList\n",
    "\n",
    "userNumber = int(input(\"Enter a Number: \"))\n",
    "for n in collatz(userNumber):\n",
    "    print(n)"
   ]
  },
  {
   "cell_type": "markdown",
   "id": "fcd8eea0",
   "metadata": {},
   "source": [
    "# Question 5"
   ]
  },
  {
   "cell_type": "code",
   "execution_count": 120,
   "id": "c2e0e1c5",
   "metadata": {},
   "outputs": [
    {
     "name": "stdout",
     "output_type": "stream",
     "text": [
      "Enter a Number: 5\n",
      "101"
     ]
    }
   ],
   "source": [
    "def binary(decimalNumber):\n",
    "    \n",
    "    if decimalNumber<0:\n",
    "        print(\"Entered Number is negative. Please Enter Positive Number\")\n",
    "        return\n",
    "        \n",
    "    if decimalNumber > 1:\n",
    "        binary(decimalNumber//2)\n",
    "    print(decimalNumber%2,end = '')\n",
    "\n",
    "inputNumber = int(input(\"Enter a Number: \"))\n",
    "binary(inputNumber)"
   ]
  },
  {
   "cell_type": "markdown",
   "id": "39d3d0a4",
   "metadata": {},
   "source": [
    "# Question 6"
   ]
  },
  {
   "cell_type": "code",
   "execution_count": 121,
   "id": "5e356276",
   "metadata": {},
   "outputs": [
    {
     "name": "stdout",
     "output_type": "stream",
     "text": [
      "W3c Missions\n",
      " Principles\n"
     ]
    }
   ],
   "source": [
    "from html.parser import HTMLParser\n",
    "\n",
    "class HeadingParser(HTMLParser):\n",
    "    totalHeadings = [\"h1\", \"h2\"]\n",
    "    currentHeading = -1\n",
    "\n",
    "    def handle_starttag(self, tag, attrs):\n",
    "        if tag in HeadingParser.totalHeadings:\n",
    "            HeadingParser.currentHeading = HeadingParser.totalHeadings.index(tag)\n",
    "    \n",
    "    def handle_endtag(self, tag):\n",
    "        if tag == HeadingParser.totalHeadings[HeadingParser.currentHeading]:\n",
    "            HeadingParser.currentHeading = -1\n",
    "            \n",
    "    def handle_data(self, data):\n",
    "        if HeadingParser.currentHeading >= 0:\n",
    "            print(\" \" * HeadingParser.currentHeading + data)\n",
    "\n",
    "fileOpen = open(\"w3c.html\",\"r\")\n",
    "fileContents = fileOpen.read()\n",
    "myHeadingParser = HeadingParser()\n",
    "myHeadingParser.feed(fileContents)"
   ]
  },
  {
   "cell_type": "markdown",
   "id": "3c24a314",
   "metadata": {},
   "source": [
    "# Question 7"
   ]
  },
  {
   "cell_type": "code",
   "execution_count": 122,
   "id": "75087ffc",
   "metadata": {},
   "outputs": [],
   "source": [
    "from html.parser import HTMLParser\n",
    "from urllib.parse import urljoin\n",
    "from urllib.request import urlopen\n",
    "\n",
    "class Collector(HTMLParser):\n",
    "    def __init__(self, url):                                  \n",
    "        HTMLParser.__init__(self)\n",
    "        self.url = url\n",
    "        self.links = []\n",
    "        \n",
    "    def handle_starttag(self, tag, attributes):                    \n",
    "        if tag == 'a':                                        \n",
    "            for x in attributes:\n",
    "                if x[0] == 'href':\n",
    "                    absoluteURL = urljoin(self.url, x[1])     \n",
    "                    if absoluteURL[:4] == 'http': \n",
    "                        self.links.append(absoluteURL)\n",
    "                        \n",
    "    def getLinks(self):                                       \n",
    "        return self.links"
   ]
  },
  {
   "cell_type": "code",
   "execution_count": 123,
   "id": "45f6d1ba",
   "metadata": {},
   "outputs": [],
   "source": [
    "def analyze(url):\n",
    "    webContent = urlopen(url).read().decode()\n",
    "    collector = Collector(url)\n",
    "    collector.feed(webContent)\n",
    "    output = collector.getLinks()          \n",
    "    return output      \n",
    "    \n",
    "visited = set()     "
   ]
  },
  {
   "cell_type": "code",
   "execution_count": 124,
   "id": "c0668453",
   "metadata": {},
   "outputs": [],
   "source": [
    "def webdir(givenUrl,depth,indent):                      \n",
    "    global visited                                 \n",
    "    visited.add(givenUrl)\n",
    "    if depth == 0:\n",
    "        return\n",
    "    print(' '*indent, givenUrl)\n",
    "    indent +=1\n",
    "    depth -=1\n",
    "    scrappedLinks = analyze(givenUrl)                           \n",
    "    for x in scrappedLinks:                           \n",
    "        if x not in visited:\n",
    "            try:\n",
    "                webdir(x,depth,indent)\n",
    "            except:\n",
    "                pass"
   ]
  },
  {
   "cell_type": "code",
   "execution_count": 125,
   "id": "f2e8cdb6",
   "metadata": {},
   "outputs": [
    {
     "name": "stdout",
     "output_type": "stream",
     "text": [
      " http://reed.cs.depaul.edu/lperkovic/one.html\n",
      "  http://reed.cs.depaul.edu/lperkovic/two.html\n",
      "  http://reed.cs.depaul.edu/lperkovic/three.html\n"
     ]
    }
   ],
   "source": [
    "webdir('http://reed.cs.depaul.edu/lperkovic/one.html',2,0)"
   ]
  },
  {
   "cell_type": "markdown",
   "id": "60ed86af",
   "metadata": {},
   "source": [
    "# Question 8"
   ]
  },
  {
   "cell_type": "code",
   "execution_count": null,
   "id": "2071f568",
   "metadata": {},
   "outputs": [],
   "source": [
    "import sqlite3\n",
    "connection = sqlite3.connect('ipydb.db')\n",
    "db = connection.cursor()\n",
    "query = \"CREATE TABLE cityWeather (City text, Country text, Season text,Temperature float,Rainfall float)\"\n",
    "db.execute(query)"
   ]
  },
  {
   "cell_type": "code",
   "execution_count": 25,
   "id": "9c4e3e6b",
   "metadata": {},
   "outputs": [
    {
     "data": {
      "text/plain": [
       "<sqlite3.Cursor at 0x2709ca2b810>"
      ]
     },
     "execution_count": 25,
     "metadata": {},
     "output_type": "execute_result"
    }
   ],
   "source": [
    "connection.execute(\"INSERT INTO cityWeather VALUES ('Mumbai', 'India', 'Winter',24.8,5.9)\")\n",
    "connection.execute(\"INSERT INTO cityWeather VALUES ('Mumbai', 'India', 'Spring',28.4,16.2)\")\n",
    "connection.execute(\"INSERT INTO cityWeather VALUES ('Mumbai', 'India', 'Summer',27.9,1549.4 )\")\n",
    "connection.execute(\"INSERT INTO cityWeather VALUES ('Mumbai', 'India', 'Fall',27.6,346.0)\")\n",
    "connection.execute(\"INSERT INTO cityWeather VALUES ('London', 'United Kingdom', 'Winter',4.2,207.7 )\")\n",
    "connection.execute(\"INSERT INTO cityWeather VALUES ('London', 'United Kingdom', 'Spring',8.3,169.6)\")\n",
    "connection.execute(\"INSERT INTO cityWeather VALUES ('London', 'United Kingdom', 'Summer',15.7,157.0)\")\n",
    "connection.execute(\"INSERT INTO cityWeather VALUES ('London', 'United Kingdom', 'Fall',10.4,218.5)\")\n",
    "connection.execute(\"INSERT INTO cityWeather VALUES ('Cairo', 'Egypt', 'Winter',13.6,16.5)\")\n",
    "connection.execute(\"INSERT INTO cityWeather VALUES ('Cairo', 'Egypt', 'Spring',20.7,6.5)\")\n",
    "connection.execute(\"INSERT INTO cityWeather VALUES ('Cairo', 'Egypt', 'Summer',27.7,0.1)\")\n",
    "connection.execute(\"INSERT INTO cityWeather VALUES ('Cairo', 'Egypt', 'Fall',22.2,4.5)\")"
   ]
  },
  {
   "cell_type": "code",
   "execution_count": 27,
   "id": "8788087b",
   "metadata": {},
   "outputs": [
    {
     "data": {
      "text/plain": [
       "[('Mumbai', 'India', 'Winter', 24.8, 5.9),\n",
       " ('Mumbai', 'India', 'Spring', 28.4, 16.2),\n",
       " ('Mumbai', 'India', 'Summer', 27.9, 1549.4),\n",
       " ('Mumbai', 'India', 'Fall', 27.6, 346.0),\n",
       " ('London', 'United Kingdom', 'Winter', 4.2, 207.7),\n",
       " ('London', 'United Kingdom', 'Spring', 8.3, 169.6),\n",
       " ('London', 'United Kingdom', 'Summer', 15.7, 157.0),\n",
       " ('London', 'United Kingdom', 'Fall', 10.4, 218.5),\n",
       " ('Cairo', 'Egypt', 'Winter', 13.6, 16.5),\n",
       " ('Cairo', 'Egypt', 'Spring', 20.7, 6.5),\n",
       " ('Cairo', 'Egypt', 'Summer', 27.7, 0.1),\n",
       " ('Cairo', 'Egypt', 'Fall', 22.2, 4.5)]"
      ]
     },
     "execution_count": 27,
     "metadata": {},
     "output_type": "execute_result"
    }
   ],
   "source": [
    "db.execute(\"SELECT * FROM cityWeather\")\n",
    "db.fetchall()"
   ]
  },
  {
   "cell_type": "markdown",
   "id": "a5524a3b",
   "metadata": {},
   "source": [
    "### A - All the temperature data."
   ]
  },
  {
   "cell_type": "code",
   "execution_count": 30,
   "id": "16b388dc",
   "metadata": {},
   "outputs": [
    {
     "name": "stdout",
     "output_type": "stream",
     "text": [
      "(24.8,)\n",
      "(28.4,)\n",
      "(27.9,)\n",
      "(27.6,)\n",
      "(4.2,)\n",
      "(8.3,)\n",
      "(15.7,)\n",
      "(10.4,)\n",
      "(13.6,)\n",
      "(20.7,)\n",
      "(27.7,)\n",
      "(22.2,)\n"
     ]
    }
   ],
   "source": [
    "# myCursor.execute(\"SELECT Temperature FROM citydata\")\n",
    "# solutionA = myCursor.fetchall()\n",
    "# for x in solutionA:\n",
    "#     print(x)\n",
    "\n",
    "db.execute(\"SELECT Temperature FROM cityWeather\")\n",
    "solA = db.fetchall()\n",
    "for x in solA:\n",
    "    print(x)"
   ]
  },
  {
   "cell_type": "markdown",
   "id": "006b9c0f",
   "metadata": {},
   "source": [
    "### B - All the cities, but without repetition."
   ]
  },
  {
   "cell_type": "code",
   "execution_count": 32,
   "id": "b7f36110",
   "metadata": {},
   "outputs": [
    {
     "name": "stdout",
     "output_type": "stream",
     "text": [
      "('Mumbai',)\n",
      "('London',)\n",
      "('Cairo',)\n"
     ]
    }
   ],
   "source": [
    "db.execute(\"select distinct city from cityWeather\")\n",
    "solB = db.fetchall()\n",
    "for x in solB:\n",
    "    print(x)"
   ]
  },
  {
   "cell_type": "markdown",
   "id": "f34a574d",
   "metadata": {},
   "source": [
    "### C - All the records for India.\n"
   ]
  },
  {
   "cell_type": "code",
   "execution_count": 33,
   "id": "fbbeb94a",
   "metadata": {},
   "outputs": [
    {
     "name": "stdout",
     "output_type": "stream",
     "text": [
      "('Mumbai', 'India', 'Winter', 24.8, 5.9)\n",
      "('Mumbai', 'India', 'Spring', 28.4, 16.2)\n",
      "('Mumbai', 'India', 'Summer', 27.9, 1549.4)\n",
      "('Mumbai', 'India', 'Fall', 27.6, 346.0)\n"
     ]
    }
   ],
   "source": [
    "db.execute(\"select * from cityWeather where Country = 'India'\")\n",
    "solC = db.fetchall()\n",
    "for x in solC:\n",
    "    print(x)"
   ]
  },
  {
   "cell_type": "markdown",
   "id": "7f9718d9",
   "metadata": {},
   "source": [
    "### D - All the Fall records"
   ]
  },
  {
   "cell_type": "code",
   "execution_count": 34,
   "id": "f857b401",
   "metadata": {},
   "outputs": [
    {
     "name": "stdout",
     "output_type": "stream",
     "text": [
      "('Mumbai', 'India', 'Fall', 27.6, 346.0)\n",
      "('London', 'United Kingdom', 'Fall', 10.4, 218.5)\n",
      "('Cairo', 'Egypt', 'Fall', 22.2, 4.5)\n"
     ]
    }
   ],
   "source": [
    "db.execute(\"select * from cityWeather where Season = 'Fall'\")\n",
    "solD = db.fetchall()\n",
    "for x in solD:\n",
    "    print (x)"
   ]
  },
  {
   "cell_type": "markdown",
   "id": "7f83c1d0",
   "metadata": {},
   "source": [
    "### E - The city, country, and season for which the average rainfall is between 200 and 400 millimeters"
   ]
  },
  {
   "cell_type": "code",
   "execution_count": 35,
   "id": "32563756",
   "metadata": {},
   "outputs": [
    {
     "name": "stdout",
     "output_type": "stream",
     "text": [
      "('Mumbai', 'India', 'Fall')\n",
      "('London', 'United Kingdom', 'Winter')\n",
      "('London', 'United Kingdom', 'Fall')\n"
     ]
    }
   ],
   "source": [
    "db.execute(\"select City,Country,Season from cityWeather where Rainfall between 200 and 400\")\n",
    "solE = db.fetchall()\n",
    "for x in solE:\n",
    "    print(x)"
   ]
  },
  {
   "cell_type": "markdown",
   "id": "0e7e804e",
   "metadata": {},
   "source": [
    "### F - The city and country for which the average Fall temperature is above 20 degrees, in increasing temperature order"
   ]
  },
  {
   "cell_type": "code",
   "execution_count": 37,
   "id": "2c74bbfa",
   "metadata": {},
   "outputs": [
    {
     "name": "stdout",
     "output_type": "stream",
     "text": [
      "('Cairo', 'Egypt')\n",
      "('Mumbai', 'India')\n"
     ]
    }
   ],
   "source": [
    "db.execute(\"select City,Country from cityWeather where Season = 'Fall' and Temperature > 20 order by Temperature ASC\")\n",
    "solF = db.fetchall()\n",
    "for x in solF:\n",
    "    print(x)"
   ]
  },
  {
   "cell_type": "markdown",
   "id": "5f9e1a1f",
   "metadata": {},
   "source": [
    "### G - The total annual rainfall for cairo"
   ]
  },
  {
   "cell_type": "code",
   "execution_count": 39,
   "id": "cb657b9c",
   "metadata": {},
   "outputs": [
    {
     "name": "stdout",
     "output_type": "stream",
     "text": [
      "(27.6,)\n"
     ]
    }
   ],
   "source": [
    "db.execute(\"select Sum(Rainfall) from cityWeather where Country = 'Egypt'\")\n",
    "solG = db.fetchall()\n",
    "for x in solG:\n",
    "    print(x)"
   ]
  },
  {
   "cell_type": "markdown",
   "id": "a897a5a5",
   "metadata": {},
   "source": [
    "### h - The total rainfall for each season.\n"
   ]
  },
  {
   "cell_type": "code",
   "execution_count": 42,
   "id": "7b67c2d6",
   "metadata": {},
   "outputs": [
    {
     "name": "stdout",
     "output_type": "stream",
     "text": [
      "(230.1, 192.29999999999998, 1706.5, 569.0)\n"
     ]
    }
   ],
   "source": [
    "db.execute(\"select (select sum(rainfall) from cityWeather where season = 'Winter') AS 'Total Rainfall in Winter', (select sum(rainfall) from cityWeather where season = 'Spring') AS 'Total Rainfall in Spring',(select sum(rainfall) from cityWeather where season = 'Summer') AS 'Total Rainfall in Summer',(select sum(rainfall) from cityWeather where season = 'Fall') AS 'Total Rainfall in Fall'\")\n",
    "solH = db.fetchall()\n",
    "for x in solH:\n",
    "    print(x)"
   ]
  },
  {
   "cell_type": "markdown",
   "id": "51a40a07",
   "metadata": {},
   "source": [
    "# Question 9"
   ]
  },
  {
   "cell_type": "code",
   "execution_count": 131,
   "id": "c0249ea8",
   "metadata": {},
   "outputs": [
    {
     "name": "stdout",
     "output_type": "stream",
     "text": [
      "['THE', 'QUICK', 'BROWN', 'FOX', 'JUMPS', 'OVER', 'THE', 'LAZY', 'DOG']\n",
      "\n",
      "\n",
      "['the', 'quick', 'brown', 'fox', 'jumps', 'over', 'the', 'lazy', 'dog']\n",
      "\n",
      "\n",
      "[3, 5, 5, 3, 5, 4, 3, 4, 3]\n",
      "\n",
      "\n",
      "[['THE', 'the', 3], ['QUICK', 'quick', 5], ['BROWN', 'brown', 5], ['FOX', 'fox', 3], ['JUMPS', 'jumps', 5], ['OVER', 'over', 4], ['THE', 'the', 3], ['LAZY', 'lazy', 4], ['DOG', 'dog', 3]]\n",
      "\n",
      "\n",
      "['quick', 'brown', 'jumps', 'over', 'lazy']\n",
      "\n",
      "\n"
     ]
    }
   ],
   "source": [
    "givenWords = ['The', 'quick', 'brown', 'fox', 'jumps', 'over','the', 'lazy', 'dog']\n",
    "\n",
    "A = [elements.upper() for elements in givenWords]\n",
    "print (A)\n",
    "print(\"\\n\")\n",
    "\n",
    "B = [elements.lower() for elements in givenWords]\n",
    "print(B)\n",
    "print(\"\\n\")\n",
    "\n",
    "C = [len(elements) for elements in givenWords]\n",
    "print(C)\n",
    "print(\"\\n\")\n",
    "\n",
    "D = [[elements.upper(),elements.lower(),len(elements)] for elements in givenWords]\n",
    "print(D)\n",
    "print(\"\\n\")\n",
    "\n",
    "E = [elements for elements in givenWords if len(elements)>=4]\n",
    "print(E)\n",
    "print(\"\\n\")"
   ]
  },
  {
   "cell_type": "code",
   "execution_count": null,
   "id": "55b7f468",
   "metadata": {},
   "outputs": [],
   "source": []
  }
 ],
 "metadata": {
  "kernelspec": {
   "display_name": "Python 3",
   "language": "python",
   "name": "python3"
  },
  "language_info": {
   "codemirror_mode": {
    "name": "ipython",
    "version": 3
   },
   "file_extension": ".py",
   "mimetype": "text/x-python",
   "name": "python",
   "nbconvert_exporter": "python",
   "pygments_lexer": "ipython3",
   "version": "3.8.8"
  }
 },
 "nbformat": 4,
 "nbformat_minor": 5
}
